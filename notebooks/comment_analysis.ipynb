{
 "cells": [
  {
   "cell_type": "markdown",
   "metadata": {},
   "source": [
    "# Summary of the facebook comment analysis from the classifier\n",
    "\n",
    "## Note: run the LinearSVC classifier before running the code from this notebook"
   ]
  },
  {
   "cell_type": "code",
   "execution_count": 1,
   "metadata": {
    "collapsed": false
   },
   "outputs": [
    {
     "data": {
      "text/html": [
       "<div>\n",
       "<table border=\"1\" class=\"dataframe\">\n",
       "  <thead>\n",
       "    <tr style=\"text-align: right;\">\n",
       "      <th></th>\n",
       "      <th>label</th>\n",
       "      <th>message</th>\n",
       "      <th>author</th>\n",
       "      <th>likes</th>\n",
       "    </tr>\n",
       "  </thead>\n",
       "  <tbody>\n",
       "    <tr>\n",
       "      <th>0</th>\n",
       "      <td>negative</td>\n",
       "      <td>Epilepsy is a part of the lives of many people...</td>\n",
       "      <td>Mark Allison</td>\n",
       "      <td>4</td>\n",
       "    </tr>\n",
       "    <tr>\n",
       "      <th>1</th>\n",
       "      <td>positive</td>\n",
       "      <td>Let's stop Epilepsy before it stops others!!!</td>\n",
       "      <td>Dawn Hoffman</td>\n",
       "      <td>2</td>\n",
       "    </tr>\n",
       "    <tr>\n",
       "      <th>2</th>\n",
       "      <td>negative</td>\n",
       "      <td>I've been living with Epilepsy since the age o...</td>\n",
       "      <td>Henry Thomas</td>\n",
       "      <td>0</td>\n",
       "    </tr>\n",
       "    <tr>\n",
       "      <th>3</th>\n",
       "      <td>neutral</td>\n",
       "      <td>Evan's kicking epilepsy's ass &lt;ed&gt;&lt;U+00A0&gt;&lt;U+0...</td>\n",
       "      <td>Kerrie Dougherty</td>\n",
       "      <td>0</td>\n",
       "    </tr>\n",
       "    <tr>\n",
       "      <th>4</th>\n",
       "      <td>negative</td>\n",
       "      <td>Many famous people had epilepsy. Not many are ...</td>\n",
       "      <td>Kent McAfee</td>\n",
       "      <td>0</td>\n",
       "    </tr>\n",
       "  </tbody>\n",
       "</table>\n",
       "</div>"
      ],
      "text/plain": [
       "      label                                            message  \\\n",
       "0  negative  Epilepsy is a part of the lives of many people...   \n",
       "1  positive      Let's stop Epilepsy before it stops others!!!   \n",
       "2  negative  I've been living with Epilepsy since the age o...   \n",
       "3   neutral  Evan's kicking epilepsy's ass <ed><U+00A0><U+0...   \n",
       "4  negative  Many famous people had epilepsy. Not many are ...   \n",
       "\n",
       "             author  likes  \n",
       "0      Mark Allison      4  \n",
       "1      Dawn Hoffman      2  \n",
       "2      Henry Thomas      0  \n",
       "3  Kerrie Dougherty      0  \n",
       "4       Kent McAfee      0  "
      ]
     },
     "execution_count": 1,
     "metadata": {},
     "output_type": "execute_result"
    }
   ],
   "source": [
    "%matplotlib inline \n",
    "\n",
    "import matplotlib\n",
    "import matplotlib.pyplot as plt\n",
    "import pandas as pd\n",
    "from bs4 import BeautifulSoup\n",
    "\n",
    "import re\n",
    "from wordcloud import WordCloud, STOPWORDS\n",
    "\n",
    "df = pd.read_csv(\"../results/LinearSVC_notebooks-comments.csv\", sep=\"\\t\", header = 0)\n",
    "df.head()"
   ]
  },
  {
   "cell_type": "code",
   "execution_count": 2,
   "metadata": {
    "collapsed": false
   },
   "outputs": [
    {
     "data": {
      "text/plain": [
       "5109"
      ]
     },
     "execution_count": 2,
     "metadata": {},
     "output_type": "execute_result"
    }
   ],
   "source": [
    "len(df)"
   ]
  },
  {
   "cell_type": "code",
   "execution_count": 3,
   "metadata": {
    "collapsed": false
   },
   "outputs": [
    {
     "data": {
      "text/plain": [
       "3029"
      ]
     },
     "execution_count": 3,
     "metadata": {},
     "output_type": "execute_result"
    }
   ],
   "source": [
    "len(df.author.unique())"
   ]
  },
  {
   "cell_type": "code",
   "execution_count": 5,
   "metadata": {
    "collapsed": false
   },
   "outputs": [
    {
     "data": {
      "text/html": [
       "<div>\n",
       "<table border=\"1\" class=\"dataframe\">\n",
       "  <thead>\n",
       "    <tr style=\"text-align: right;\">\n",
       "      <th></th>\n",
       "      <th>label</th>\n",
       "    </tr>\n",
       "    <tr>\n",
       "      <th>author</th>\n",
       "      <th></th>\n",
       "    </tr>\n",
       "  </thead>\n",
       "  <tbody>\n",
       "    <tr>\n",
       "      <th>Epilepsy Advocate</th>\n",
       "      <td>178</td>\n",
       "    </tr>\n",
       "    <tr>\n",
       "      <th>Mark Allison</th>\n",
       "      <td>43</td>\n",
       "    </tr>\n",
       "    <tr>\n",
       "      <th>Sharon Zimmerman Wellmaker</th>\n",
       "      <td>37</td>\n",
       "    </tr>\n",
       "    <tr>\n",
       "      <th>Athena Ramirez</th>\n",
       "      <td>22</td>\n",
       "    </tr>\n",
       "    <tr>\n",
       "      <th>Tim Tilt</th>\n",
       "      <td>16</td>\n",
       "    </tr>\n",
       "    <tr>\n",
       "      <th>Joy Kirlin Stewart</th>\n",
       "      <td>15</td>\n",
       "    </tr>\n",
       "    <tr>\n",
       "      <th>Janet Adams Bonzo</th>\n",
       "      <td>12</td>\n",
       "    </tr>\n",
       "    <tr>\n",
       "      <th>Elizabeth Robles</th>\n",
       "      <td>12</td>\n",
       "    </tr>\n",
       "    <tr>\n",
       "      <th>Lakeisha Parnell</th>\n",
       "      <td>12</td>\n",
       "    </tr>\n",
       "    <tr>\n",
       "      <th>Max Taunton</th>\n",
       "      <td>12</td>\n",
       "    </tr>\n",
       "    <tr>\n",
       "      <th>Kathy Fowler</th>\n",
       "      <td>12</td>\n",
       "    </tr>\n",
       "    <tr>\n",
       "      <th>Edward Crane</th>\n",
       "      <td>11</td>\n",
       "    </tr>\n",
       "    <tr>\n",
       "      <th>Jackie Moore</th>\n",
       "      <td>11</td>\n",
       "    </tr>\n",
       "    <tr>\n",
       "      <th>Lydia M. Salinas</th>\n",
       "      <td>10</td>\n",
       "    </tr>\n",
       "    <tr>\n",
       "      <th>Nicki Kinder</th>\n",
       "      <td>10</td>\n",
       "    </tr>\n",
       "    <tr>\n",
       "      <th>Canary LeBlanc</th>\n",
       "      <td>10</td>\n",
       "    </tr>\n",
       "    <tr>\n",
       "      <th>Marta M Gonzalez</th>\n",
       "      <td>10</td>\n",
       "    </tr>\n",
       "    <tr>\n",
       "      <th>Sherryann Smith</th>\n",
       "      <td>9</td>\n",
       "    </tr>\n",
       "    <tr>\n",
       "      <th>Melissa Smith</th>\n",
       "      <td>9</td>\n",
       "    </tr>\n",
       "    <tr>\n",
       "      <th>Rebecca Duncan</th>\n",
       "      <td>9</td>\n",
       "    </tr>\n",
       "    <tr>\n",
       "      <th>Courtney Foreback</th>\n",
       "      <td>9</td>\n",
       "    </tr>\n",
       "    <tr>\n",
       "      <th>Mariana Andal� Rocha</th>\n",
       "      <td>9</td>\n",
       "    </tr>\n",
       "    <tr>\n",
       "      <th>Alfredo Salas</th>\n",
       "      <td>9</td>\n",
       "    </tr>\n",
       "    <tr>\n",
       "      <th>Pam JH Witcher</th>\n",
       "      <td>8</td>\n",
       "    </tr>\n",
       "    <tr>\n",
       "      <th>Kris Luck</th>\n",
       "      <td>8</td>\n",
       "    </tr>\n",
       "    <tr>\n",
       "      <th>Eileen Warren</th>\n",
       "      <td>8</td>\n",
       "    </tr>\n",
       "    <tr>\n",
       "      <th>Robin Blakeman</th>\n",
       "      <td>8</td>\n",
       "    </tr>\n",
       "    <tr>\n",
       "      <th>Robin May Ruggie</th>\n",
       "      <td>8</td>\n",
       "    </tr>\n",
       "    <tr>\n",
       "      <th>Linda Fuentes</th>\n",
       "      <td>8</td>\n",
       "    </tr>\n",
       "    <tr>\n",
       "      <th>Allison Tookes</th>\n",
       "      <td>8</td>\n",
       "    </tr>\n",
       "    <tr>\n",
       "      <th>...</th>\n",
       "      <td>...</td>\n",
       "    </tr>\n",
       "    <tr>\n",
       "      <th>Jim Rourke</th>\n",
       "      <td>1</td>\n",
       "    </tr>\n",
       "    <tr>\n",
       "      <th>Jimmy Patterson</th>\n",
       "      <td>1</td>\n",
       "    </tr>\n",
       "    <tr>\n",
       "      <th>Jme Penz</th>\n",
       "      <td>1</td>\n",
       "    </tr>\n",
       "    <tr>\n",
       "      <th>Jo Ann Sams</th>\n",
       "      <td>1</td>\n",
       "    </tr>\n",
       "    <tr>\n",
       "      <th>JoHanna Wnenta Schultz</th>\n",
       "      <td>1</td>\n",
       "    </tr>\n",
       "    <tr>\n",
       "      <th>Joann Smith</th>\n",
       "      <td>1</td>\n",
       "    </tr>\n",
       "    <tr>\n",
       "      <th>Joanna Hartley</th>\n",
       "      <td>1</td>\n",
       "    </tr>\n",
       "    <tr>\n",
       "      <th>Joanna Haynes Pederson</th>\n",
       "      <td>1</td>\n",
       "    </tr>\n",
       "    <tr>\n",
       "      <th>Andy Thornock</th>\n",
       "      <td>1</td>\n",
       "    </tr>\n",
       "    <tr>\n",
       "      <th>Joanne Endecott Snarr</th>\n",
       "      <td>1</td>\n",
       "    </tr>\n",
       "    <tr>\n",
       "      <th>Jessica Vp</th>\n",
       "      <td>1</td>\n",
       "    </tr>\n",
       "    <tr>\n",
       "      <th>Jessica Taylor</th>\n",
       "      <td>1</td>\n",
       "    </tr>\n",
       "    <tr>\n",
       "      <th>Jesse Gonzales</th>\n",
       "      <td>1</td>\n",
       "    </tr>\n",
       "    <tr>\n",
       "      <th>Jessica Schaffino</th>\n",
       "      <td>1</td>\n",
       "    </tr>\n",
       "    <tr>\n",
       "      <th>Jessi Cornelison</th>\n",
       "      <td>1</td>\n",
       "    </tr>\n",
       "    <tr>\n",
       "      <th>Jessica Ann Moon Childers</th>\n",
       "      <td>1</td>\n",
       "    </tr>\n",
       "    <tr>\n",
       "      <th>Jessica Boyer</th>\n",
       "      <td>1</td>\n",
       "    </tr>\n",
       "    <tr>\n",
       "      <th>Jessica Buckley Thornton</th>\n",
       "      <td>1</td>\n",
       "    </tr>\n",
       "    <tr>\n",
       "      <th>Jessica Buntt</th>\n",
       "      <td>1</td>\n",
       "    </tr>\n",
       "    <tr>\n",
       "      <th>Jessica Chance</th>\n",
       "      <td>1</td>\n",
       "    </tr>\n",
       "    <tr>\n",
       "      <th>Jessica Delcamp</th>\n",
       "      <td>1</td>\n",
       "    </tr>\n",
       "    <tr>\n",
       "      <th>Jessica Glendening</th>\n",
       "      <td>1</td>\n",
       "    </tr>\n",
       "    <tr>\n",
       "      <th>Jessica Hitt Pendley</th>\n",
       "      <td>1</td>\n",
       "    </tr>\n",
       "    <tr>\n",
       "      <th>Jessica Jessica Jessica</th>\n",
       "      <td>1</td>\n",
       "    </tr>\n",
       "    <tr>\n",
       "      <th>Jessica Jones-Wilcox</th>\n",
       "      <td>1</td>\n",
       "    </tr>\n",
       "    <tr>\n",
       "      <th>Jessica Keenan Smith</th>\n",
       "      <td>1</td>\n",
       "    </tr>\n",
       "    <tr>\n",
       "      <th>Jessica Leigh Naquin</th>\n",
       "      <td>1</td>\n",
       "    </tr>\n",
       "    <tr>\n",
       "      <th>Jessica Marie</th>\n",
       "      <td>1</td>\n",
       "    </tr>\n",
       "    <tr>\n",
       "      <th>Jessica Morgan Reeder</th>\n",
       "      <td>1</td>\n",
       "    </tr>\n",
       "    <tr>\n",
       "      <th>LaWana Rogers-Breece</th>\n",
       "      <td>1</td>\n",
       "    </tr>\n",
       "  </tbody>\n",
       "</table>\n",
       "<p>3029 rows × 1 columns</p>\n",
       "</div>"
      ],
      "text/plain": [
       "                            label\n",
       "author                           \n",
       "Epilepsy Advocate             178\n",
       "Mark Allison                   43\n",
       "Sharon Zimmerman Wellmaker     37\n",
       "Athena Ramirez                 22\n",
       "Tim Tilt                       16\n",
       "Joy Kirlin Stewart             15\n",
       "Janet Adams Bonzo              12\n",
       "Elizabeth Robles               12\n",
       "Lakeisha Parnell               12\n",
       "Max Taunton                    12\n",
       "Kathy Fowler                   12\n",
       "Edward Crane                   11\n",
       "Jackie Moore                   11\n",
       "Lydia M. Salinas               10\n",
       "Nicki Kinder                   10\n",
       "Canary LeBlanc                 10\n",
       "Marta M Gonzalez               10\n",
       "Sherryann Smith                 9\n",
       "Melissa Smith                   9\n",
       "Rebecca Duncan                  9\n",
       "Courtney Foreback               9\n",
       "Mariana Andal� Rocha            9\n",
       "Alfredo Salas                   9\n",
       "Pam JH Witcher                  8\n",
       "Kris Luck                       8\n",
       "Eileen Warren                   8\n",
       "Robin Blakeman                  8\n",
       "Robin May Ruggie                8\n",
       "Linda Fuentes                   8\n",
       "Allison Tookes                  8\n",
       "...                           ...\n",
       "Jim Rourke                      1\n",
       "Jimmy Patterson                 1\n",
       "Jme Penz                        1\n",
       "Jo Ann Sams                     1\n",
       "JoHanna Wnenta Schultz          1\n",
       "Joann Smith                     1\n",
       "Joanna Hartley                  1\n",
       "Joanna Haynes Pederson          1\n",
       "Andy Thornock                   1\n",
       "Joanne Endecott Snarr           1\n",
       "Jessica Vp                      1\n",
       "Jessica Taylor                  1\n",
       "Jesse Gonzales                  1\n",
       "Jessica Schaffino               1\n",
       "Jessi Cornelison                1\n",
       "Jessica Ann Moon Childers       1\n",
       "Jessica Boyer                   1\n",
       "Jessica Buckley Thornton        1\n",
       "Jessica Buntt                   1\n",
       "Jessica Chance                  1\n",
       "Jessica Delcamp                 1\n",
       "Jessica Glendening              1\n",
       "Jessica Hitt Pendley            1\n",
       "Jessica Jessica Jessica         1\n",
       "Jessica Jones-Wilcox            1\n",
       "Jessica Keenan Smith            1\n",
       "Jessica Leigh Naquin            1\n",
       "Jessica Marie                   1\n",
       "Jessica Morgan Reeder           1\n",
       "LaWana Rogers-Breece            1\n",
       "\n",
       "[3029 rows x 1 columns]"
      ]
     },
     "execution_count": 5,
     "metadata": {},
     "output_type": "execute_result"
    }
   ],
   "source": [
    "pd.DataFrame(df.groupby(['author'])['label'].count()).sort_values(by='label',ascending=False)"
   ]
  },
  {
   "cell_type": "code",
   "execution_count": 100,
   "metadata": {
    "collapsed": false
   },
   "outputs": [
    {
     "data": {
      "text/plain": [
       "label\n",
       "negative    2557\n",
       "neutral     1592\n",
       "positive     960\n",
       "Name: label, dtype: int64"
      ]
     },
     "execution_count": 100,
     "metadata": {},
     "output_type": "execute_result"
    }
   ],
   "source": [
    "\n",
    "df.groupby('label')['label'].count()"
   ]
  },
  {
   "cell_type": "code",
   "execution_count": 16,
   "metadata": {
    "collapsed": false
   },
   "outputs": [
    {
     "data": {
      "text/plain": [
       "author                      label   \n",
       "Athena Ramirez              negative     6\n",
       "                            neutral     11\n",
       "                            positive     5\n",
       "Edward Crane                negative     7\n",
       "                            neutral      4\n",
       "Elizabeth Robles            negative     7\n",
       "                            neutral      2\n",
       "                            positive     3\n",
       "Epilepsy Advocate           negative    89\n",
       "                            neutral     45\n",
       "                            positive    44\n",
       "Jackie Moore                negative     6\n",
       "                            neutral      4\n",
       "                            positive     1\n",
       "Janet Adams Bonzo           negative     9\n",
       "                            neutral      1\n",
       "                            positive     2\n",
       "Joy Kirlin Stewart          negative     7\n",
       "                            neutral      5\n",
       "                            positive     3\n",
       "Kathy Fowler                negative     8\n",
       "                            neutral      2\n",
       "                            positive     2\n",
       "Lakeisha Parnell            negative     3\n",
       "                            neutral      3\n",
       "                            positive     6\n",
       "Mark Allison                negative    27\n",
       "                            neutral      8\n",
       "                            positive     8\n",
       "Max Taunton                 negative     6\n",
       "                            neutral      2\n",
       "                            positive     4\n",
       "Sharon Zimmerman Wellmaker  negative    21\n",
       "                            neutral      6\n",
       "                            positive    10\n",
       "Tim Tilt                    negative    11\n",
       "                            neutral      1\n",
       "                            positive     4\n",
       "Name: label, dtype: int64"
      ]
     },
     "execution_count": 16,
     "metadata": {},
     "output_type": "execute_result"
    }
   ],
   "source": [
    "#df.groupby(['author'])['label'].count() > 3\n",
    "high_comments = df.groupby('author').filter(lambda x: len(x) > 10).sort_values(by='author',ascending=False)\n",
    "grouped = high_comments.groupby(['author','label'])['label'].count()"
   ]
  },
  {
   "cell_type": "code",
   "execution_count": 93,
   "metadata": {
    "collapsed": false
   },
   "outputs": [
    {
     "data": {
      "text/plain": [
       "<matplotlib.axes._subplots.AxesSubplot at 0x116499a90>"
      ]
     },
     "execution_count": 93,
     "metadata": {},
     "output_type": "execute_result"
    },
    {
     "data": {
      "text/plain": [
       "<matplotlib.figure.Figure at 0x11669dc10>"
      ]
     },
     "metadata": {},
     "output_type": "display_data"
    },
    {
     "data": {
      "image/png": "[encoded data removed]",
      "text/plain": [
       "<matplotlib.figure.Figure at 0x115e83c90>"
      ]
     },
     "metadata": {},
     "output_type": "display_data"
    }
   ],
   "source": [
    "plt.figure()\n",
    "high_comments.groupby(['author','label'])['label'].count().unstack().plot()"
   ]
  },
  {
   "cell_type": "code",
   "execution_count": null,
   "metadata": {
    "collapsed": true
   },
   "outputs": [],
   "source": []
  }
 ],
 "metadata": {
  "kernelspec": {
   "display_name": "Python 2",
   "language": "python",
   "name": "python2"
  },
  "language_info": {
   "codemirror_mode": {
    "name": "ipython",
    "version": 2
   },
   "file_extension": ".py",
   "mimetype": "text/x-python",
   "name": "python",
   "nbconvert_exporter": "python",
   "pygments_lexer": "ipython2",
   "version": "2.7.11"
  }
 },
 "nbformat": 4,
 "nbformat_minor": 0
}
